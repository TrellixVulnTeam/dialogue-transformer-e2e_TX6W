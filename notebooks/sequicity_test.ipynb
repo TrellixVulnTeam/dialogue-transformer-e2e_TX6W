{
  "nbformat": 4,
  "nbformat_minor": 0,
  "metadata": {
    "colab": {
      "name": "sequicity_test.ipynb",
      "provenance": [],
      "collapsed_sections": [],
      "toc_visible": true
    },
    "kernelspec": {
      "name": "python3",
      "display_name": "Python 3"
    },
    "accelerator": "GPU"
  },
  "cells": [
    {
      "cell_type": "markdown",
      "metadata": {
        "id": "iCN47q4XwvOU",
        "colab_type": "text"
      },
      "source": [
        "# Sequicity test"
      ]
    },
    {
      "cell_type": "markdown",
      "metadata": {
        "id": "sfrOqf5JwqAv",
        "colab_type": "text"
      },
      "source": [
        "## Initialization"
      ]
    },
    {
      "cell_type": "markdown",
      "metadata": {
        "id": "zmTkSGDfx_64",
        "colab_type": "text"
      },
      "source": [
        "clone repo and add all important directories"
      ]
    },
    {
      "cell_type": "code",
      "metadata": {
        "id": "n7BlEGG5_TcW",
        "colab_type": "code",
        "colab": {}
      },
      "source": [
        "!git clone https://github.com/pixelneo/dialogue-transformer-e2e\n",
        "%cd dialogue-transformer-e2e/implementation/sequicity\n",
        "\n",
        "!mkdir log\n",
        "!mkdir sheets"
      ],
      "execution_count": 0,
      "outputs": []
    },
    {
      "cell_type": "markdown",
      "metadata": {
        "id": "JiK-hpvT4Fdw",
        "colab_type": "text"
      },
      "source": [
        "import NLTK"
      ]
    },
    {
      "cell_type": "code",
      "metadata": {
        "id": "1bUf4kEr4CrW",
        "colab_type": "code",
        "colab": {}
      },
      "source": [
        "import nltk\n",
        "nltk.download('stopwords')\n",
        "nltk.download('punkt')"
      ],
      "execution_count": 0,
      "outputs": []
    },
    {
      "cell_type": "markdown",
      "metadata": {
        "id": "8TCEHOgax66B",
        "colab_type": "text"
      },
      "source": [
        "download GloVe word embeddings"
      ]
    },
    {
      "cell_type": "code",
      "metadata": {
        "id": "mjn3daGhx1aP",
        "colab_type": "code",
        "colab": {}
      },
      "source": [
        "!mkdir data/glove\n",
        "\n",
        "# large GloVe (840B tokens, 2.2M vocab, cased, 300d vectors, 2.03 GB)\n",
        "# !wget http://nlp.stanford.edu/data/glove.840B.300d.zip -P data\n",
        "\n",
        "# small GloVe (6B tokens, 400K vocab, uncased, 50d, 100d, 200d, & 300d vectors, 822 MB)\n",
        "!wget -O data/glove/glove.6B.50d.txt http://www.ms.mff.cuni.cz/~mekotao/glove/glove.6B.50d.txt\n",
        "# !wget http://nlp.stanford.edu/data/glove.6B.zip -P data/glove\n",
        "\n",
        "!unzip data/glove/glove.*.zip -d data/glove\n",
        "!rm data/glove/glove.*.zip"
      ],
      "execution_count": 0,
      "outputs": []
    },
    {
      "cell_type": "markdown",
      "metadata": {
        "id": "h6rp9ziU3zRg",
        "colab_type": "text"
      },
      "source": [
        "## Training"
      ]
    },
    {
      "cell_type": "code",
      "metadata": {
        "id": "HyFooIqS3ynO",
        "colab_type": "code",
        "colab": {}
      },
      "source": [
        "!python model.py -mode train -model tsdf-camrest"
      ],
      "execution_count": 0,
      "outputs": []
    }
  ]
}
